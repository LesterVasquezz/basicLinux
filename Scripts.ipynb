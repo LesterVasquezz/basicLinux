{
 "cells": [
  {
   "cell_type": "markdown",
   "id": "0e8288dc",
   "metadata": {},
   "source": [
    "# Scripts "
   ]
  },
  {
   "cell_type": "markdown",
   "id": "57f0e840",
   "metadata": {},
   "source": [
    "Un script Shell es un archivo de comandos ejecutables que ha sido almacenado en un archivo de texto. Cuando el archivo se ejecuta, se ejecuta cada comando.\n",
    "\n",
    "Existen varios shells con su propia sintaxis de lenguaje. Por lo tanto, los scripts más complicados indicarán un shell determinado, especificando la ruta absoluta al interprete con la primera línea, con el prefijo `#!`\n",
    "\n",
    "Los dos caracteres `#!` se llaman hash y bang respectivamente, que conduce a la forma abreviada **shebang**"
   ]
  },
  {
   "cell_type": "markdown",
   "id": "5b22ac51",
   "metadata": {},
   "source": [
    "- Para obtener entradas del usuario del script y asignarlo a una variable podemos usar el comando `read`,\n",
    "  por ejemplo: \n",
    " ```\n",
    " #!/bin/bash\n",
    " echo \"Como te llamas?\n",
    " read NOMBRE \n",
    " echo \"Hola $NAME\"\n",
    " ```"
   ]
  },
  {
   "cell_type": "markdown",
   "id": "102fd876",
   "metadata": {},
   "source": [
    "### PERMISO\n",
    "\n",
    "Si es la primera vez que ejecutas tu script, probablemente te aparezca un mensaje de error de permiso, por lo que será necesario utilizar el siguiente comando:\n",
    "- `sudo chmod +x nombreArchivo`"
   ]
  },
  {
   "cell_type": "markdown",
   "id": "ef178f98",
   "metadata": {},
   "source": [
    "# Variables especiales \n",
    "\n",
    "- `$0` representa el nombre del script\n",
    "- `$1`-`$9` los primeros 9 argumentos que se pasan a un script en Bash \n",
    "- `$#` número de argumentos que se pasan \n",
    "- `$?` la salida del ultimo proceso que se ha ejecutado \n",
    "- `$USER` nombre del usuario que ejecuta el script\n",
    "- `$PATH` la ruta por defecto donde encontrar binarios  \n",
    "\n",
    "\n",
    "Ejemplo de varios argumentos: \n",
    "```\n",
    "#!/bin/bash\n",
    "echo $1\n",
    "\n",
    "```\n"
   ]
  },
  {
   "cell_type": "markdown",
   "id": "0a3ad925",
   "metadata": {},
   "source": [
    "![](img/varS.png)\n",
    "\n",
    "- Aqui mostrariamos solo la primer variable que se manda desde la consola \n",
    "- Si cambiamos `$1` por `$3` obtendremos el tercer argumento \n",
    "![](img/var2.png)\n",
    "\n",
    "- Los argumentos van separados por espacios\n",
    "- Para obtener un argumento en especifico ponemos `${numero}`"
   ]
  },
  {
   "cell_type": "markdown",
   "id": "cb09c119",
   "metadata": {},
   "source": [
    "# Condicionales "
   ]
  },
  {
   "cell_type": "markdown",
   "id": "977abf62",
   "metadata": {},
   "source": [
    "## IF\n",
    "\n",
    "La instrucción `if` es un operador básico para implementar un branching\n",
    "\n",
    "```\n",
    "if unComando; then\n",
    "    #hacer algo\n",
    "fi \n",
    "```\n",
    "\n",
    "**Nota: Si la salida del comando es 0, entonces se ejecuta el código dentro del if** \n",
    "\n",
    "    0 = salida correcta\n",
    "    1 = salida incorrecta\n",
    "    \n",
    "    \n",
    " "
   ]
  },
  {
   "cell_type": "markdown",
   "id": "1aaf05e1",
   "metadata": {},
   "source": [
    "El siguiente script busca la palabra root en el archivo passwd y muestra en pantalla si fue encontrado o no.\n",
    "```\n",
    "#!/bin/bash\n",
    "\n",
    "if grep -q root /etc/passwd; then\n",
    "    echo root se encentra en el archivo pass\n",
    "else \n",
    "    echo root no se encontró \n",
    "fi \n",
    "```\n",
    "\n",
    "Tambien podemos Utilizar `elif` como en Python"
   ]
  },
  {
   "cell_type": "markdown",
   "id": "9e93f824",
   "metadata": {},
   "source": [
    "## TEST \n",
    "\n",
    "El comando `test` da un acceso facil a los operadores de prueba de comparación y archivos. \n",
    "\n",
    "Sintaxis: `test expresión`\n",
    "\n",
    "test devuelve un 0 o un 1, dependiendo si la expresión se cumple "
   ]
  },
  {
   "cell_type": "markdown",
   "id": "0b206b5c",
   "metadata": {},
   "source": [
    "**Expresiones** \n",
    "\n",
    "| Expresión      | Descripción |\n",
    "| -------------- | ----------- |\n",
    "| String **=** String | Compara si dos strings son iguales       |\n",
    "| String **!=** String | Compara si dos strings son diferentes       |\n",
    "| INTEGER1 **-eq** INTEGER2 | Compara si dos enteros son iguales       |\n",
    "| INTEGER1 **-ge** INTEGER2 | mayor o igual        |\n",
    "| INTEGER1 **-gt** INTEGER2 | mayor que  |\n",
    "| INTEGER1 **-le** INTEGER2 | menor o igual       |\n",
    "| INTEGER1 **-lt** INTEGER2 | menor que  |\n",
    "| INTEGER1 **-ne** INTEGER2 | no son iguales  |\n",
    "| **-e** | si existe el archivo  |\n",
    "| **-f** | si existe el archivo y es un archivo regular |\n",
    "| EXPRESION1 **-a** EXPRESION2| Las dos expresiones son verdaderas  |\n",
    "| EXPRESION1 **-o** EXPRESION2| Una de las dos expresiones es verdadera  |\n",
    "\n",
    "El comando `test` tiene un alias llamado `[` corchete cruzado izquierdo. Por lo que las siguientes intrucciones son equivalentes. \n",
    "\n",
    "```\n",
    "if test -f /tmp/foo; then \n",
    "\n",
    "if [-f /tmp/foo]; then\n",
    "```\n",
    "\n",
    "\n",
    "\n",
    "\n"
   ]
  },
  {
   "cell_type": "markdown",
   "id": "19a69c21",
   "metadata": {},
   "source": [
    "# Ciclos\n",
    "\n",
    "## FOR \n",
    "\n",
    "Se utiliza cuando se tiene una colección finita que quieres repetir, como una lista de nombres de servidor.\n",
    "\n",
    "Ejemplo: \n",
    "```\n",
    "#!/bin/bash\n",
    "\n",
    "servers = \"serverA serverB serverC\"\n",
    "\n",
    "for S in servers; do \n",
    "    echo \"haz algo con el servido $S\"\n",
    "done \n",
    "```\n",
    "\n",
    "Un ejemplo con un rango de numeros \n",
    "\n",
    "\n",
    "```\n",
    "#!/bin/bash\n",
    "\n",
    "for S in $(seq 1 10); do \n",
    "    echo \"iteracion $S\"\n",
    "done \n",
    "```\n"
   ]
  },
  {
   "cell_type": "markdown",
   "id": "fcfb370e",
   "metadata": {},
   "source": [
    "## WHILE\n",
    "\n",
    "El ciclo while opera en una lista de tamaño desconocido. Ejemplo: \n",
    "\n",
    "```\n",
    "#!/bin/bash \n",
    "\n",
    "i=0\n",
    "\n",
    "while [ $i -lt 10 ]; do\n",
    "    echo $i\n",
    "    i=$(($i + 1))\n",
    "done\n",
    "\n",
    "echo \"Conteo terminado\"\n",
    "```"
   ]
  },
  {
   "cell_type": "code",
   "execution_count": null,
   "id": "612b20ab",
   "metadata": {},
   "outputs": [],
   "source": []
  },
  {
   "cell_type": "code",
   "execution_count": null,
   "id": "0e4a8568",
   "metadata": {},
   "outputs": [],
   "source": []
  }
 ],
 "metadata": {
  "kernelspec": {
   "display_name": "Bash",
   "language": "bash",
   "name": "bash"
  },
  "language_info": {
   "codemirror_mode": "shell",
   "file_extension": ".sh",
   "mimetype": "text/x-sh",
   "name": "bash"
  }
 },
 "nbformat": 4,
 "nbformat_minor": 5
}
