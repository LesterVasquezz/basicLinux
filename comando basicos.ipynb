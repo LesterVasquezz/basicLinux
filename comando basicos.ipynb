{
 "cells": [
  {
   "cell_type": "markdown",
   "id": "22ed8812",
   "metadata": {},
   "source": [
    "# Comando Basicos de Linux"
   ]
  },
  {
   "cell_type": "markdown",
   "id": "5adaf598",
   "metadata": {},
   "source": [
    "1. <font size=\"3\">**uname**</font> nos devuelve el nombre del kernel que se esta ejecutando en nuestro ordenador "
   ]
  },
  {
   "cell_type": "code",
   "execution_count": 9,
   "id": "f9a78223",
   "metadata": {},
   "outputs": [
    {
     "name": "stdout",
     "output_type": "stream",
     "text": [
      "\u001b]777;preexec\u001b\\Linux\n",
      "\u001b[?2004h"
     ]
    },
    {
     "ename": "",
     "evalue": "1",
     "output_type": "error",
     "traceback": []
    }
   ],
   "source": [
    "uname "
   ]
  },
  {
   "cell_type": "markdown",
   "id": "020249ec",
   "metadata": {},
   "source": [
    "**uname** contiene opciones que nos permiten espeificar qué informacion del sistema queremos obtener \n",
    "- <span style=\"color:orange\"> -a nos devuelve toda la información basica del sistema </span>\n",
    "- <span style=\"color:orange\"> -o nos devuelve el nombre del sistema operativo </span>\n",
    "- <span style=\"color:orange\"> -v nos devuelve la version del kernel </span>\n",
    "- <span style=\"color:orange\"> -s nos devuelve el nombre del kerbek</span>"
   ]
  },
  {
   "cell_type": "markdown",
   "id": "24779b21",
   "metadata": {},
   "source": [
    "2. <font size=\"3\">**date**</font> nos devuelve la fecha actual del sistema "
   ]
  },
  {
   "cell_type": "code",
   "execution_count": 22,
   "id": "d22015cc",
   "metadata": {},
   "outputs": [
    {
     "name": "stdout",
     "output_type": "stream",
     "text": [
      "\u001b]777;preexec\u001b\\hwclock: Cannot access the Hardware Clock via any known method.\n",
      "hwclock: Use the --verbose option to see the details of our search for an access method.\n",
      "\u001b[?2004h"
     ]
    },
    {
     "ename": "",
     "evalue": "1",
     "output_type": "error",
     "traceback": []
    }
   ],
   "source": [
    "hwclock --systohc"
   ]
  },
  {
   "cell_type": "code",
   "execution_count": null,
   "id": "ec3da8e5",
   "metadata": {},
   "outputs": [],
   "source": []
  }
 ],
 "metadata": {
  "kernelspec": {
   "display_name": "Bash",
   "language": "bash",
   "name": "bash"
  },
  "language_info": {
   "codemirror_mode": "shell",
   "file_extension": ".sh",
   "mimetype": "text/x-sh",
   "name": "bash"
  }
 },
 "nbformat": 4,
 "nbformat_minor": 5
}
