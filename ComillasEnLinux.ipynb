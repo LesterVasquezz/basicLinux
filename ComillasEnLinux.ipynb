{
 "cells": [
  {
   "cell_type": "markdown",
   "id": "858d2f8d",
   "metadata": {},
   "source": [
    "# Uso de comillas en BASH"
   ]
  },
  {
   "cell_type": "markdown",
   "id": "17be3a2b",
   "metadata": {},
   "source": [
    "Existen 3 tipos de comillas que podemos utilizar en bash \n",
    "- **\" Comilla doble**\n",
    "    - No reconocen a los caracteres glob (*, [], ?)\n",
    "    - Permiten la expansión de variables, es decir, podemos llamar valores de variables dentro \n",
    "    de las comillas \n",
    "    - No aceptan una interpretacion de comandos shell \n"
   ]
  },
  {
   "cell_type": "code",
   "execution_count": null,
   "id": "c6f483ad",
   "metadata": {},
   "outputs": [],
   "source": [
    "# el siguiente comando intentaria usar el comando ls y el comodin * para listar todos los archivos con extension .txt\n",
    "echo \"lista de archivos txt ls *.txt\""
   ]
  },
  {
   "cell_type": "code",
   "execution_count": null,
   "id": "3845e508",
   "metadata": {},
   "outputs": [],
   "source": [
    "# este comando imprime lo que contiene la variable de entorno $PATH\n",
    "echo \"ruta del path $PATH\""
   ]
  },
  {
   "cell_type": "markdown",
   "id": "79c1e484",
   "metadata": {},
   "source": [
    "- **' Comillas simples**\n",
    "    - Tampoco reconoce los caracteres glob\n",
    "    - No permite la expansión de variables, es decir, no podremos llamar valores de variable dentro de comillas simples\n",
    "    - Tampoco acepta interpretacion de comandos"
   ]
  },
  {
   "cell_type": "code",
   "execution_count": null,
   "id": "4c22fe98",
   "metadata": {},
   "outputs": [],
   "source": [
    "#intentamos imprimir la ruta del path, pero esto solo nos arrojara texto con la palabra $PATH\n",
    "echo 'ruta del $PATH'"
   ]
  },
  {
   "cell_type": "markdown",
   "id": "c3956973",
   "metadata": {},
   "source": [
    "- **` Comilla invertida o comilla de acento**\n",
    "    - Permite la interpretacion de comandos "
   ]
  },
  {
   "cell_type": "code",
   "execution_count": 10,
   "id": "2c697e4d",
   "metadata": {},
   "outputs": [
    {
     "name": "stdout",
     "output_type": "stream",
     "text": [
      "\u001b]777;preexec\u001b\\la fecha de hoy es Sat Jan 22 02:02:02 PM CST 2022\n",
      "\u001b[?2004h"
     ]
    },
    {
     "ename": "",
     "evalue": "1",
     "output_type": "error",
     "traceback": []
    }
   ],
   "source": [
    "#Imprimimos la fecha \n",
    "echo la fecha de hoy es `date`"
   ]
  },
  {
   "cell_type": "markdown",
   "id": "cc3f98c1",
   "metadata": {},
   "source": [
    "<font size=\"5\"> ANOTACIONES </font>\n",
    "\n",
    "- Tambien podemos interpretar comandos con $(comando)\n",
    "- La comilla simple inhabilita la comilla invertida, por ejemplo: echo la fecha es '\\`date\\`' no imprimiria la fecha, sino la palabra \\`date\\`\n",
    "- Las comillas dobles si permiten la interpretacion de comandos encerrados en comillas invertidas \n",
    "- Tambien podemos escapar caracteres con diagonal invertida"
   ]
  },
  {
   "cell_type": "code",
   "execution_count": 12,
   "id": "d314dc61",
   "metadata": {},
   "outputs": [
    {
     "name": "stdout",
     "output_type": "stream",
     "text": [
      "\u001b]777;preexec\u001b\\la fecha es `date`\n",
      "\u001b[?2004h"
     ]
    },
    {
     "ename": "",
     "evalue": "1",
     "output_type": "error",
     "traceback": []
    }
   ],
   "source": [
    "echo la fecha es '`date`'"
   ]
  },
  {
   "cell_type": "code",
   "execution_count": 14,
   "id": "710dd9dd",
   "metadata": {},
   "outputs": [
    {
     "name": "stdout",
     "output_type": "stream",
     "text": [
      "\u001b]777;preexec\u001b\\la fecha es Sat Jan 22 02:10:20 PM CST 2022\n",
      "\u001b[?2004h"
     ]
    },
    {
     "ename": "",
     "evalue": "1",
     "output_type": "error",
     "traceback": []
    }
   ],
   "source": [
    "echo la fecha es $(date)"
   ]
  },
  {
   "cell_type": "code",
   "execution_count": 17,
   "id": "3d5b414c",
   "metadata": {},
   "outputs": [
    {
     "name": "stdout",
     "output_type": "stream",
     "text": [
      "\u001b]777;preexec\u001b\\la fecha es Sat Jan 22 02:11:01 PM CST 2022\n",
      "\u001b[?2004h"
     ]
    },
    {
     "ename": "",
     "evalue": "1",
     "output_type": "error",
     "traceback": []
    }
   ],
   "source": [
    "echo \"la fecha es `date`\""
   ]
  },
  {
   "cell_type": "code",
   "execution_count": 19,
   "id": "be48781c",
   "metadata": {},
   "outputs": [
    {
     "name": "stdout",
     "output_type": "stream",
     "text": [
      "\u001b]777;preexec\u001b\\la fecha es `date`\n",
      "\u001b[?2004h"
     ]
    },
    {
     "ename": "",
     "evalue": "1",
     "output_type": "error",
     "traceback": []
    }
   ],
   "source": [
    "echo la fecha es \\`date\\`"
   ]
  },
  {
   "cell_type": "code",
   "execution_count": null,
   "id": "1636d910",
   "metadata": {},
   "outputs": [],
   "source": []
  }
 ],
 "metadata": {
  "kernelspec": {
   "display_name": "Bash",
   "language": "bash",
   "name": "bash"
  },
  "language_info": {
   "codemirror_mode": "shell",
   "file_extension": ".sh",
   "mimetype": "text/x-sh",
   "name": "bash"
  }
 },
 "nbformat": 4,
 "nbformat_minor": 5
}
